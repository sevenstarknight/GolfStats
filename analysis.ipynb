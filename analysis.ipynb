{
 "cells": [
  {
   "cell_type": "code",
   "execution_count": null,
   "metadata": {},
   "outputs": [],
   "source": [
    "import pandas as pd\n",
    "import os\n",
    "import pathlib\n",
    "\n",
    "currentPath = pathlib.Path().resolve()\n",
    "print(currentPath)"
   ]
  },
  {
   "cell_type": "code",
   "execution_count": null,
   "metadata": {},
   "outputs": [],
   "source": [
    "dir_path = os.path.abspath(os.path.join(currentPath,\"data\"))\n",
    "\n",
    "fileName = \"Edison's Scores.xlsx\"\n",
    "\n",
    "fileLocation = os.path.join(dir_path, fileName)\n",
    "\n",
    "df = pd.read_excel(fileLocation)\n",
    "print(df)"
   ]
  },
  {
   "cell_type": "code",
   "execution_count": 1,
   "metadata": {},
   "outputs": [],
   "source": [
    "class HoleResult():\n",
    "    def __init__(self, input: str) -> None:\n",
    "        holeResults : list[str] = input.split(\",\")\n",
    "        self.par = holeResults[0]\n",
    "        self.distance = holeResults[1]\n",
    "        self.toGreen = holeResults[2]\n",
    "        self.putts = holeResults[3]\n",
    "        self.total = holeResults[4]\n",
    "        \n",
    "class RoundResult():\n",
    "    def __init__(self, location: str, division: str, date : str) -> None:\n",
    "        self.location = location\n",
    "        self.division = division\n",
    "        self.date = date\n",
    "        self.holes : list[HoleResult] = []\n",
    "        \n",
    "    def addHole(self, holeResult : HoleResult):\n",
    "        self.holes.append(holeResult)"
   ]
  },
  {
   "cell_type": "code",
   "execution_count": null,
   "metadata": {},
   "outputs": [],
   "source": []
  }
 ],
 "metadata": {
  "kernelspec": {
   "display_name": "venv",
   "language": "python",
   "name": "python3"
  },
  "language_info": {
   "codemirror_mode": {
    "name": "ipython",
    "version": 3
   },
   "file_extension": ".py",
   "mimetype": "text/x-python",
   "name": "python",
   "nbconvert_exporter": "python",
   "pygments_lexer": "ipython3",
   "version": "3.10.8"
  },
  "orig_nbformat": 4
 },
 "nbformat": 4,
 "nbformat_minor": 2
}
