{
 "cells": [
  {
   "cell_type": "code",
   "execution_count": 1,
   "metadata": {},
   "outputs": [
    {
     "name": "stdout",
     "output_type": "stream",
     "text": [
      "/workspaces/GolfStats\n"
     ]
    }
   ],
   "source": [
    "import pandas as pd\n",
    "import os\n",
    "import pathlib\n",
    "\n",
    "currentPath = pathlib.Path().resolve()\n",
    "print(currentPath)"
   ]
  },
  {
   "cell_type": "code",
   "execution_count": 2,
   "metadata": {},
   "outputs": [
    {
     "name": "stdout",
     "output_type": "stream",
     "text": [
      "           Course Division       Date        Hole 1        Hole 2  \\\n",
      "0    Turtle Creek       U6 2022-04-10    3,70,2,3,5   4,115,5,4,9   \n",
      "1       Sandridge       U6 2022-04-26   4,130,4,2,6   5,205,3,1,4   \n",
      "2           Duran       U6 2022-05-01   5,200,4,4,8   4,121,3,3,6   \n",
      "3       Rockledge       U6 2022-05-15   5,200,3,3,6    3,65,1,3,4   \n",
      "4           Duran       U6 2022-05-28   5,200,3,3,6   4,121,5,4,9   \n",
      "5     Cocoa Beach       U6 2022-06-25  5,220,8,2,10    3,70,1,3,4   \n",
      "6       Sandridge       U6 2022-10-15   4,130,3,2,5   5,205,4,2,6   \n",
      "7           Duran       U6 2022-10-29   5,200,4,2,6   4,121,2,2,4   \n",
      "8     Cocoa Beach       U6 2022-11-05   5,220,3,3,6    3,70,1,1,2   \n",
      "9           Duran       U6 2022-11-13   5,200,4,3,7   4,130,2,2,4   \n",
      "10   Turtle Creek       U6 2022-11-19   5,205,6,2,8   4,110,3,2,5   \n",
      "11    Cocoa Beach       U6 2022-12-03   5,220,5,4,9    3,70,2,2,4   \n",
      "12          Duran       U7 2023-04-01   5,260,6,3,9   4,175,2,2,4   \n",
      "13   Turtle Creek       U7 2023-04-15   5,265,6,2,8   4,180,2,2,4   \n",
      "14    Cocoa Beach       U7 2023-05-06   5,275,3,2,5    3,85,1,1,2   \n",
      "15          Duran       U7 2023-05-07   5,260,6,0,6   4,175,2,2,4   \n",
      "16    Cocoa Beach       U7 2023-05-27   5,275,3,2,5    3,85,1,3,4   \n",
      "17      Dubsdread       U7 2023-06-04   4,160,2,2,4   4,150,3,2,5   \n",
      "18      Sandridge       U7 2023-06-10   4,145,2,4,6   5,260,3,2,5   \n",
      "19  Orange County       U7 2023-06-11   4,180,3,3,4  5,260,7,2,9,   \n",
      "20    Eagle Creek       U7 2023-07-09  '4,175,2,3,5  '4,155,3,3,6   \n",
      "21      Dubsdread       U7 2023-07-22  '4,160,4,4,8  '4,150,3,2,5   \n",
      "22      Dubsdread       U7 2023-08-27  '4,160,3,2,5  '4,150,2,3,5   \n",
      "23        Seaview       U7 2023-09-02  '5.268,3,2,5   '3,80,1,3,4   \n",
      "24        Seaview       U7 2023-09-03  '5,268,4,2,6   '3,80,1,3,4   \n",
      "\n",
      "          Hole 3        Hole 4        Hole 5        Hole 6        Hole 7  \\\n",
      "0    5,190,4,4,8    3,77,2,4,6   5,200,5,2,7    3,65,1,3,4   4,110,2,3,5   \n",
      "1     3,70,1,3,4   5,210,3,1,4  4,150,5,5,10    3,75,1,5,6   4,130,3,1,4   \n",
      "2    4,116,2,3,5    3,65,1,2,3   4,110,2,3,5   4,120,2,3,5    3,77,4,5,9   \n",
      "3    4,130,3,3,6   4,150,3,2,5  5,215,5,5,10   4,120,2,3,5   4,125,2,3,5   \n",
      "4    4,116,2,3,5    3,65,2,3,5   4,110,2,3,5   4,120,2,3,5    3,77,2,1,3   \n",
      "5    4,125,4,3,7   5,220,5,2,7    3,70,2,2,4   5,210,4,4,8   4,130,3,1,4   \n",
      "6     3,70,1,3,4   5,210,3,3,6   4,150,2,4,6    3,75,4,3,7   4,130,2,2,4   \n",
      "7    4,116,3,3,6    3,75,4,4,8   4,110,3,5,8   4,127,3,3,6    3,77,2,3,5   \n",
      "8    4,125,3,3,6   5,220,4,3,7    3,70,1,3,4   5,210,4,2,6   4,130,2,4,6   \n",
      "9    4,120,4,5,9    3,65,1,3,4   4,115,2,3,5   4,120,4,2,6    3,77,3,3,6   \n",
      "10    3,70,1,3,4   4,120,2,3,5   4,110,2,3,5    3,68,1,2,3   5,200,3,2,5   \n",
      "11   4,125,2,4,6   5,220,3,2,5    3,70,1,1,2   5,210,4,2,6   4,130,3,2,5   \n",
      "12   4,150,2,4,6    3,80,3,2,5   4,170,2,3,5   4,165,3,2,5    3,89,5,4,9   \n",
      "13    3,85,2,2,4   4,150,3,3,6   4,160,3,4,7    3,75,1,3,4   5,275,4,2,6   \n",
      "14   4,165,3,2,5   5,280,4,2,6    3,75,2,2,4   5,260,2,3,5   4,155,2,2,4   \n",
      "15   4,150,3,3,6    3,80,2,2,4   4,170,2,2,4  4,165,7,3,10    3,89,1,2,3   \n",
      "16   4,165,2,3,5   5,280,5,2,7    3,75,1,4,5   5,260,2,2,4   4,155,2,2,4   \n",
      "17    3,85,3,3,6   5,250,5,0,5    3,72,2,2,4   4,170,3,2,5   4,180,3,2,5   \n",
      "18    3,85,2,3,5   4,250,2,2,4   4,180,4,2,6    3,75,1,2,3   4,170,2,2,4   \n",
      "19   4,150,7,2,9    3,75,1,1,2   4,170,2,2,4    3,60,1,3,4   5,270,3,3,6   \n",
      "20  '4,150,3,2,5  '5,250,3,3,6   '3,80,1,2,3  '4,180,3,1,4  '4,170,3,2,5   \n",
      "21   '3,85,1,3,4  '5,250,4,1,5   '3,70,2,2,4  '4,170,3,4,7  '4,180,2,1,3   \n",
      "22   '3,85,1,2,3  '5,250,3,2,5   '3,72,3,3,6  '4,170,4,3,7  '4,180,2,2,4   \n",
      "23  '4,161,3,3,6  '4,165,2,4,6  '5,239,3,2,5   '3,78,2,4,6  '4,206,3,3,6   \n",
      "24  '4,161,2,3,5  '4,165,2,3,5  '5,239,2,3,5   '3,78,1,2,3  '4,206,3,2,5   \n",
      "\n",
      "          Hole 8        Hole 9  Unnamed: 12  \n",
      "0    5,205,4,3,7   4,120,4,2,6           57  \n",
      "1    4,125,3,3,6   4,115,4,3,7           51  \n",
      "2    4,109,2,2,4   5,205,4,1,5           50  \n",
      "3     3,70,2,2,4   4,155,4,3,7           52  \n",
      "4    4,109,4,3,7   5,205,3,5,8           53  \n",
      "5     3,80,1,2,3   4,140,3,3,6           52  \n",
      "6    4,125,2,2,4   4,115,1,2,3           45  \n",
      "7    4,109,2,2,4   5,205,5,2,7           54  \n",
      "8     3,80,2,1,3   4,140,3,3,6           46  \n",
      "9    4,110,2,3,5   5,205,3,3,6           52  \n",
      "10   4,115,2,3,5   4,110,3,2,5           45  \n",
      "11    3,80,2,1,3   4,140,3,2,5           45  \n",
      "12   4,155,1,3,4   5,275,2,3,5           52  \n",
      "13   4,160,4,1,5   4,155,2,3,5           49  \n",
      "14    3,90,2,1,3   4,175,3,1,4           38  \n",
      "15   4,155,4,4,8   4,275,6,3,9           54  \n",
      "16    3,90,2,2,4   4,175,3,2,5           46  \n",
      "17   5,250,3,4,7   4,170,3,2,5           46  \n",
      "18   4,145,2,2,4   4,200,3,1,4           41  \n",
      "19   4,160,3,2,5   4,180,3,2,5           47  \n",
      "20  '3,100,2,3,5  '5,250,3,3,6           45  \n",
      "21  '5,250,3,2,5  '4,170,2,2,4           45  \n",
      "22  '5,250,4,2,6  '4,170,2,2,4           45  \n",
      "23   '3,81,1,1,2  '5,264,5,2,7           47  \n",
      "24   '3,81,1,4,5  '5,264,3,4,7           45  \n"
     ]
    }
   ],
   "source": [
    "dir_path = os.path.abspath(os.path.join(currentPath,\"data\"))\n",
    "\n",
    "fileName = \"Edison's Scores.xlsx\"\n",
    "\n",
    "fileLocation = os.path.join(dir_path, fileName)\n",
    "\n",
    "df = pd.read_excel(fileLocation)\n",
    "print(df.head(3))"
   ]
  },
  {
   "cell_type": "code",
   "execution_count": 3,
   "metadata": {},
   "outputs": [],
   "source": [
    "class HoleResult():\n",
    "    def __init__(self, hole: str, input: str) -> None:\n",
    "        holeResults : list[str] = input.split(\",\")\n",
    "        self.hole : str = hole\n",
    "        \n",
    "        par = holeResults[0]\n",
    "        if par[0] == \"'\":\n",
    "            par[0].pop(0)\n",
    "            \n",
    "        self.par : float = float(par)\n",
    "        self.distance: float = float(holeResults[1])\n",
    "        self.toGreen: float = float(holeResults[2])\n",
    "        self.putts: float = float(holeResults[3])\n",
    "        self.total: float = float(holeResults[4])\n",
    "        \n",
    "class RoundResult():\n",
    "    def __init__(self, location: str, division: str, date : str) -> None:\n",
    "        self.location : str = location\n",
    "        self.division : str = division\n",
    "        self.date : str = date\n",
    "        self.holes : dict[HoleResult] = {}\n",
    "        \n",
    "    def addHole(self, holeResult : HoleResult):\n",
    "        self.holes[holeResult.hole] = holeResult"
   ]
  },
  {
   "cell_type": "code",
   "execution_count": 4,
   "metadata": {},
   "outputs": [],
   "source": [
    "holes = [\"Hole 1\",\t\"Hole 2\",\t\"Hole 3\",\t \"Hole 4\",\t\"Hole 5\",\t\"Hole 6\",\t\"Hole 7\",\t\"Hole 8\",\t\"Hole 9\"]\n"
   ]
  },
  {
   "cell_type": "code",
   "execution_count": 5,
   "metadata": {},
   "outputs": [
    {
     "ename": "KeyError",
     "evalue": "'Hole 4'",
     "output_type": "error",
     "traceback": [
      "\u001b[0;31m---------------------------------------------------------------------------\u001b[0m",
      "\u001b[0;31mKeyError\u001b[0m                                  Traceback (most recent call last)",
      "File \u001b[0;32m/workspaces/GolfStats/venv/lib/python3.10/site-packages/pandas/core/indexes/base.py:3790\u001b[0m, in \u001b[0;36mIndex.get_loc\u001b[0;34m(self, key)\u001b[0m\n\u001b[1;32m   3789\u001b[0m \u001b[39mtry\u001b[39;00m:\n\u001b[0;32m-> 3790\u001b[0m     \u001b[39mreturn\u001b[39;00m \u001b[39mself\u001b[39;49m\u001b[39m.\u001b[39;49m_engine\u001b[39m.\u001b[39;49mget_loc(casted_key)\n\u001b[1;32m   3791\u001b[0m \u001b[39mexcept\u001b[39;00m \u001b[39mKeyError\u001b[39;00m \u001b[39mas\u001b[39;00m err:\n",
      "File \u001b[0;32mindex.pyx:152\u001b[0m, in \u001b[0;36mpandas._libs.index.IndexEngine.get_loc\u001b[0;34m()\u001b[0m\n",
      "File \u001b[0;32mindex.pyx:181\u001b[0m, in \u001b[0;36mpandas._libs.index.IndexEngine.get_loc\u001b[0;34m()\u001b[0m\n",
      "File \u001b[0;32mpandas/_libs/hashtable_class_helper.pxi:7080\u001b[0m, in \u001b[0;36mpandas._libs.hashtable.PyObjectHashTable.get_item\u001b[0;34m()\u001b[0m\n",
      "File \u001b[0;32mpandas/_libs/hashtable_class_helper.pxi:7088\u001b[0m, in \u001b[0;36mpandas._libs.hashtable.PyObjectHashTable.get_item\u001b[0;34m()\u001b[0m\n",
      "\u001b[0;31mKeyError\u001b[0m: 'Hole 4'",
      "\nThe above exception was the direct cause of the following exception:\n",
      "\u001b[0;31mKeyError\u001b[0m                                  Traceback (most recent call last)",
      "\u001b[1;32m/workspaces/GolfStats/analysis.ipynb Cell 5\u001b[0m line \u001b[0;36m9\n\u001b[1;32m      <a href='vscode-notebook-cell://codespaces%2Bsilver-fishstick-69gwgpwppr34j9p/workspaces/GolfStats/analysis.ipynb#W4sdnNjb2RlLXJlbW90ZQ%3D%3D?line=5'>6</a>\u001b[0m \u001b[39mround\u001b[39m \u001b[39m=\u001b[39m RoundResult(location \u001b[39m=\u001b[39m row[\u001b[39m'\u001b[39m\u001b[39mCourse\u001b[39m\u001b[39m'\u001b[39m], division\u001b[39m=\u001b[39mrow[\u001b[39m'\u001b[39m\u001b[39mDivision\u001b[39m\u001b[39m'\u001b[39m], date\u001b[39m=\u001b[39mrow[\u001b[39m'\u001b[39m\u001b[39mDate\u001b[39m\u001b[39m'\u001b[39m])\n\u001b[1;32m      <a href='vscode-notebook-cell://codespaces%2Bsilver-fishstick-69gwgpwppr34j9p/workspaces/GolfStats/analysis.ipynb#W4sdnNjb2RlLXJlbW90ZQ%3D%3D?line=7'>8</a>\u001b[0m \u001b[39mfor\u001b[39;00m holeName \u001b[39min\u001b[39;00m holes:\n\u001b[0;32m----> <a href='vscode-notebook-cell://codespaces%2Bsilver-fishstick-69gwgpwppr34j9p/workspaces/GolfStats/analysis.ipynb#W4sdnNjb2RlLXJlbW90ZQ%3D%3D?line=8'>9</a>\u001b[0m     holeResult \u001b[39m=\u001b[39m HoleResult(hole\u001b[39m=\u001b[39mholeName, \u001b[39minput\u001b[39m\u001b[39m=\u001b[39mrow[holeName])\n\u001b[1;32m     <a href='vscode-notebook-cell://codespaces%2Bsilver-fishstick-69gwgpwppr34j9p/workspaces/GolfStats/analysis.ipynb#W4sdnNjb2RlLXJlbW90ZQ%3D%3D?line=9'>10</a>\u001b[0m     \u001b[39mround\u001b[39m\u001b[39m.\u001b[39maddHole(holeResult\u001b[39m=\u001b[39mholeResult)\n\u001b[1;32m     <a href='vscode-notebook-cell://codespaces%2Bsilver-fishstick-69gwgpwppr34j9p/workspaces/GolfStats/analysis.ipynb#W4sdnNjb2RlLXJlbW90ZQ%3D%3D?line=11'>12</a>\u001b[0m rounds\u001b[39m.\u001b[39mappend(\u001b[39mround\u001b[39m)\n",
      "File \u001b[0;32m/workspaces/GolfStats/venv/lib/python3.10/site-packages/pandas/core/series.py:1040\u001b[0m, in \u001b[0;36mSeries.__getitem__\u001b[0;34m(self, key)\u001b[0m\n\u001b[1;32m   1037\u001b[0m     \u001b[39mreturn\u001b[39;00m \u001b[39mself\u001b[39m\u001b[39m.\u001b[39m_values[key]\n\u001b[1;32m   1039\u001b[0m \u001b[39melif\u001b[39;00m key_is_scalar:\n\u001b[0;32m-> 1040\u001b[0m     \u001b[39mreturn\u001b[39;00m \u001b[39mself\u001b[39;49m\u001b[39m.\u001b[39;49m_get_value(key)\n\u001b[1;32m   1042\u001b[0m \u001b[39m# Convert generator to list before going through hashable part\u001b[39;00m\n\u001b[1;32m   1043\u001b[0m \u001b[39m# (We will iterate through the generator there to check for slices)\u001b[39;00m\n\u001b[1;32m   1044\u001b[0m \u001b[39mif\u001b[39;00m is_iterator(key):\n",
      "File \u001b[0;32m/workspaces/GolfStats/venv/lib/python3.10/site-packages/pandas/core/series.py:1156\u001b[0m, in \u001b[0;36mSeries._get_value\u001b[0;34m(self, label, takeable)\u001b[0m\n\u001b[1;32m   1153\u001b[0m     \u001b[39mreturn\u001b[39;00m \u001b[39mself\u001b[39m\u001b[39m.\u001b[39m_values[label]\n\u001b[1;32m   1155\u001b[0m \u001b[39m# Similar to Index.get_value, but we do not fall back to positional\u001b[39;00m\n\u001b[0;32m-> 1156\u001b[0m loc \u001b[39m=\u001b[39m \u001b[39mself\u001b[39;49m\u001b[39m.\u001b[39;49mindex\u001b[39m.\u001b[39;49mget_loc(label)\n\u001b[1;32m   1158\u001b[0m \u001b[39mif\u001b[39;00m is_integer(loc):\n\u001b[1;32m   1159\u001b[0m     \u001b[39mreturn\u001b[39;00m \u001b[39mself\u001b[39m\u001b[39m.\u001b[39m_values[loc]\n",
      "File \u001b[0;32m/workspaces/GolfStats/venv/lib/python3.10/site-packages/pandas/core/indexes/base.py:3797\u001b[0m, in \u001b[0;36mIndex.get_loc\u001b[0;34m(self, key)\u001b[0m\n\u001b[1;32m   3792\u001b[0m     \u001b[39mif\u001b[39;00m \u001b[39misinstance\u001b[39m(casted_key, \u001b[39mslice\u001b[39m) \u001b[39mor\u001b[39;00m (\n\u001b[1;32m   3793\u001b[0m         \u001b[39misinstance\u001b[39m(casted_key, abc\u001b[39m.\u001b[39mIterable)\n\u001b[1;32m   3794\u001b[0m         \u001b[39mand\u001b[39;00m \u001b[39many\u001b[39m(\u001b[39misinstance\u001b[39m(x, \u001b[39mslice\u001b[39m) \u001b[39mfor\u001b[39;00m x \u001b[39min\u001b[39;00m casted_key)\n\u001b[1;32m   3795\u001b[0m     ):\n\u001b[1;32m   3796\u001b[0m         \u001b[39mraise\u001b[39;00m InvalidIndexError(key)\n\u001b[0;32m-> 3797\u001b[0m     \u001b[39mraise\u001b[39;00m \u001b[39mKeyError\u001b[39;00m(key) \u001b[39mfrom\u001b[39;00m \u001b[39merr\u001b[39;00m\n\u001b[1;32m   3798\u001b[0m \u001b[39mexcept\u001b[39;00m \u001b[39mTypeError\u001b[39;00m:\n\u001b[1;32m   3799\u001b[0m     \u001b[39m# If we have a listlike key, _check_indexing_error will raise\u001b[39;00m\n\u001b[1;32m   3800\u001b[0m     \u001b[39m#  InvalidIndexError. Otherwise we fall through and re-raise\u001b[39;00m\n\u001b[1;32m   3801\u001b[0m     \u001b[39m#  the TypeError.\u001b[39;00m\n\u001b[1;32m   3802\u001b[0m     \u001b[39mself\u001b[39m\u001b[39m.\u001b[39m_check_indexing_error(key)\n",
      "\u001b[0;31mKeyError\u001b[0m: 'Hole 4'"
     ]
    }
   ],
   "source": [
    "rounds:list[RoundResult] = []\n",
    "\n",
    "df = df.reset_index()  # make sure indexes pair with number of rows\n",
    "\n",
    "for index, row in df.iterrows():\n",
    "    round = RoundResult(location = row['Course'], division=row['Division'], date=row['Date'])\n",
    "    \n",
    "    for holeName in holes:\n",
    "        holeResult = HoleResult(hole=holeName, input=row[holeName])\n",
    "        round.addHole(holeResult=holeResult)\n",
    "    \n",
    "    rounds.append(round)"
   ]
  },
  {
   "cell_type": "code",
   "execution_count": null,
   "metadata": {},
   "outputs": [],
   "source": [
    "# Average Putts per Three Holes\n",
    "from operator import itemgetter\n",
    "\n",
    "dates = []\n",
    "puttAverage = []\n",
    "\n",
    "for round in rounds:\n",
    "    my_dict : dict[HoleResult] = round.holes\n",
    "    \n",
    "    numberOfPutts = 0\n",
    "    for hole in holes[0:2]:\n",
    "        numberOfPutts += my_dict[hole].putts/3\n",
    "    \n",
    "    puttAverage.append(numberOfPutts)\n",
    "    dates.append(round.date)\n",
    "    \n",
    "    numberOfPutts = 0\n",
    "    for hole in holes[3:5]:\n",
    "        numberOfPutts += my_dict[hole].putts/3\n",
    "    \n",
    "    puttAverage.append(numberOfPutts)\n",
    "    dates.append(round.date)\n",
    "    \n",
    "    numberOfPutts = 0\n",
    "    for hole in holes[6:8]:   \n",
    "        numberOfPutts += my_dict[hole].putts/3\n",
    "    \n",
    "    puttAverage.append(numberOfPutts)\n",
    "    dates.append(round.date)\n",
    "    \n",
    "dfPutts = pd.DataFrame(list(zip(dates, puttAverage)),\n",
    "               columns =['Dates', 'Putts'])\n",
    "\n",
    "dfPutts['Dates'] = pd.to_datetime(dfPutts['Dates'])\n",
    "dfPutts = dfPutts.set_index('Date')"
   ]
  },
  {
   "cell_type": "code",
   "execution_count": null,
   "metadata": {},
   "outputs": [],
   "source": [
    "import matplotlib\n",
    "import matplotlib.pyplot as plt\n",
    "import pandas as pd\n",
    "from datetime import datetime\n",
    "\n",
    "\n",
    "plt.plot(dfPutts.index, dfPutts['Putts'])"
   ]
  }
 ],
 "metadata": {
  "kernelspec": {
   "display_name": "venv",
   "language": "python",
   "name": "python3"
  },
  "language_info": {
   "codemirror_mode": {
    "name": "ipython",
    "version": 3
   },
   "file_extension": ".py",
   "mimetype": "text/x-python",
   "name": "python",
   "nbconvert_exporter": "python",
   "pygments_lexer": "ipython3",
   "version": "3.10.8"
  },
  "orig_nbformat": 4
 },
 "nbformat": 4,
 "nbformat_minor": 2
}
